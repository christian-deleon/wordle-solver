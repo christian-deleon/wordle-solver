{
 "cells": [
  {
   "cell_type": "markdown",
   "metadata": {},
   "source": [
    "## First import Pandas to load the data into a dataframe, and the Enum class."
   ]
  },
  {
   "cell_type": "code",
   "execution_count": 1,
   "metadata": {},
   "outputs": [],
   "source": [
    "import pandas as pd\n",
    "\n",
    "from enum import Enum"
   ]
  },
  {
   "cell_type": "markdown",
   "metadata": {},
   "source": [
    "## To help determine if the letter is found in the word of the day.\n",
    "\n",
    "- exactly: the letter is found in the word and in the correct spot.\n",
    "- exist: the letter is in the word but in the wrong spot.\n",
    "- nonexistent: the letter is not found in the word.\n"
   ]
  },
  {
   "cell_type": "code",
   "execution_count": 2,
   "metadata": {},
   "outputs": [],
   "source": [
    "class Val(Enum):\n",
    "    exactly = 'exactly'\n",
    "    exist = 'exist'\n",
    "    nonexistent = 'nonexistent'"
   ]
  },
  {
   "cell_type": "markdown",
   "metadata": {},
   "source": [
    "## The function to filter out the words that do not match the pattern of existing letters."
   ]
  },
  {
   "cell_type": "code",
   "execution_count": 3,
   "metadata": {},
   "outputs": [],
   "source": [
    "def filter_words(top_words, guess):\n",
    "    for index, (letter, validation) in enumerate(guess):\n",
    "        if validation == Val.nonexistent:\n",
    "            top_words = top_words[~top_words.isin([letter]).any(axis=1)]\n",
    "        \n",
    "        elif validation == Val.exactly:\n",
    "            top_words = top_words[top_words.iloc[:, index] == letter]\n",
    "\n",
    "        elif validation == Val.exist:\n",
    "            top_words = top_words[(top_words.isin([letter]).any(axis=1)) & (top_words.iloc[:, index] != letter)]\n",
    "\n",
    "    return top_words"
   ]
  },
  {
   "cell_type": "markdown",
   "metadata": {},
   "source": [
    "## Load the words.csv file into a Pandas Dataframe"
   ]
  },
  {
   "cell_type": "code",
   "execution_count": 4,
   "metadata": {},
   "outputs": [],
   "source": [
    "words = pd.read_csv(r\"words.csv\", index_col='rank')"
   ]
  },
  {
   "cell_type": "markdown",
   "metadata": {},
   "source": [
    "## Use the three most frequently used letters to suggest a list of words to start the game."
   ]
  },
  {
   "cell_type": "code",
   "execution_count": 5,
   "metadata": {},
   "outputs": [
    {
     "data": {
      "text/html": [
       "<div>\n",
       "<style scoped>\n",
       "    .dataframe tbody tr th:only-of-type {\n",
       "        vertical-align: middle;\n",
       "    }\n",
       "\n",
       "    .dataframe tbody tr th {\n",
       "        vertical-align: top;\n",
       "    }\n",
       "\n",
       "    .dataframe thead th {\n",
       "        text-align: right;\n",
       "    }\n",
       "</style>\n",
       "<table border=\"1\" class=\"dataframe\">\n",
       "  <thead>\n",
       "    <tr style=\"text-align: right;\">\n",
       "      <th></th>\n",
       "      <th>word</th>\n",
       "    </tr>\n",
       "    <tr>\n",
       "      <th>rank</th>\n",
       "      <th></th>\n",
       "    </tr>\n",
       "  </thead>\n",
       "  <tbody>\n",
       "    <tr>\n",
       "      <th>104</th>\n",
       "      <td>media</td>\n",
       "    </tr>\n",
       "    <tr>\n",
       "      <th>191</th>\n",
       "      <td>aired</td>\n",
       "    </tr>\n",
       "    <tr>\n",
       "      <th>327</th>\n",
       "      <td>image</td>\n",
       "    </tr>\n",
       "    <tr>\n",
       "      <th>332</th>\n",
       "      <td>maine</td>\n",
       "    </tr>\n",
       "    <tr>\n",
       "      <th>382</th>\n",
       "      <td>marie</td>\n",
       "    </tr>\n",
       "    <tr>\n",
       "      <th>436</th>\n",
       "      <td>anime</td>\n",
       "    </tr>\n",
       "    <tr>\n",
       "      <th>476</th>\n",
       "      <td>ideas</td>\n",
       "    </tr>\n",
       "    <tr>\n",
       "      <th>500</th>\n",
       "      <td>alice</td>\n",
       "    </tr>\n",
       "    <tr>\n",
       "      <th>534</th>\n",
       "      <td>aires</td>\n",
       "    </tr>\n",
       "    <tr>\n",
       "      <th>599</th>\n",
       "      <td>aimed</td>\n",
       "    </tr>\n",
       "  </tbody>\n",
       "</table>\n",
       "</div>"
      ],
      "text/plain": [
       "       word\n",
       "rank       \n",
       "104   media\n",
       "191   aired\n",
       "327   image\n",
       "332   maine\n",
       "382   marie\n",
       "436   anime\n",
       "476   ideas\n",
       "500   alice\n",
       "534   aires\n",
       "599   aimed"
      ]
     },
     "execution_count": 5,
     "metadata": {},
     "output_type": "execute_result"
    }
   ],
   "source": [
    "starting_words = words.copy()\n",
    "most_frequent_letters = 'aei'\n",
    "\n",
    "for letter in most_frequent_letters:\n",
    "    starting_words = starting_words[starting_words.isin([letter]).any(axis=1)]\n",
    "\n",
    "starting_words[['word']].head(10)"
   ]
  },
  {
   "cell_type": "markdown",
   "metadata": {},
   "source": [
    "## Make a copy of the words Dataframe."
   ]
  },
  {
   "cell_type": "code",
   "execution_count": 6,
   "metadata": {},
   "outputs": [],
   "source": [
    "top_words = words.copy()"
   ]
  },
  {
   "cell_type": "markdown",
   "metadata": {},
   "source": [
    "## Filtering out the top words.\n",
    "\n",
    "1. Replace the \"word\" string variable with the word you entered into the game.\n",
    "2. Using the validation list, set the enum value that corresponds to the index of the letter you entered.\n",
    "3. Run cell\n",
    "4. Pick a word from the list to use for your next guess."
   ]
  },
  {
   "cell_type": "code",
   "execution_count": 7,
   "metadata": {},
   "outputs": [
    {
     "data": {
      "text/html": [
       "<div>\n",
       "<style scoped>\n",
       "    .dataframe tbody tr th:only-of-type {\n",
       "        vertical-align: middle;\n",
       "    }\n",
       "\n",
       "    .dataframe tbody tr th {\n",
       "        vertical-align: top;\n",
       "    }\n",
       "\n",
       "    .dataframe thead th {\n",
       "        text-align: right;\n",
       "    }\n",
       "</style>\n",
       "<table border=\"1\" class=\"dataframe\">\n",
       "  <thead>\n",
       "    <tr style=\"text-align: right;\">\n",
       "      <th></th>\n",
       "      <th>word</th>\n",
       "    </tr>\n",
       "    <tr>\n",
       "      <th>rank</th>\n",
       "      <th></th>\n",
       "    </tr>\n",
       "  </thead>\n",
       "  <tbody>\n",
       "    <tr>\n",
       "      <th>159</th>\n",
       "      <td>minor</td>\n",
       "    </tr>\n",
       "    <tr>\n",
       "      <th>378</th>\n",
       "      <td>might</td>\n",
       "    </tr>\n",
       "    <tr>\n",
       "      <th>429</th>\n",
       "      <td>mills</td>\n",
       "    </tr>\n",
       "    <tr>\n",
       "      <th>532</th>\n",
       "      <td>moist</td>\n",
       "    </tr>\n",
       "    <tr>\n",
       "      <th>1436</th>\n",
       "      <td>micro</td>\n",
       "    </tr>\n",
       "    <tr>\n",
       "      <th>...</th>\n",
       "      <td>...</td>\n",
       "    </tr>\n",
       "    <tr>\n",
       "      <th>153861</th>\n",
       "      <td>mbinu</td>\n",
       "    </tr>\n",
       "    <tr>\n",
       "      <th>154164</th>\n",
       "      <td>monzi</td>\n",
       "    </tr>\n",
       "    <tr>\n",
       "      <th>154428</th>\n",
       "      <td>minzi</td>\n",
       "    </tr>\n",
       "    <tr>\n",
       "      <th>154622</th>\n",
       "      <td>miloi</td>\n",
       "    </tr>\n",
       "    <tr>\n",
       "      <th>154827</th>\n",
       "      <td>mokni</td>\n",
       "    </tr>\n",
       "  </tbody>\n",
       "</table>\n",
       "<p>764 rows × 1 columns</p>\n",
       "</div>"
      ],
      "text/plain": [
       "         word\n",
       "rank         \n",
       "159     minor\n",
       "378     might\n",
       "429     mills\n",
       "532     moist\n",
       "1436    micro\n",
       "...       ...\n",
       "153861  mbinu\n",
       "154164  monzi\n",
       "154428  minzi\n",
       "154622  miloi\n",
       "154827  mokni\n",
       "\n",
       "[764 rows x 1 columns]"
      ]
     },
     "execution_count": 7,
     "metadata": {},
     "output_type": "execute_result"
    }
   ],
   "source": [
    "word = 'media'\n",
    "validations = [Val.exactly, Val.nonexistent, Val.nonexistent, Val.exist, Val.nonexistent]\n",
    "\n",
    "guess = list(zip(word.lower(), validations))\n",
    "top_words = filter_words(top_words, guess)\n",
    "top_words[['word']]"
   ]
  },
  {
   "cell_type": "code",
   "execution_count": null,
   "metadata": {},
   "outputs": [],
   "source": []
  }
 ],
 "metadata": {
  "interpreter": {
   "hash": "1e73ccfecc1f266268780d416494ada0957b888b43e21118f66e4ee9a294b8cb"
  },
  "kernelspec": {
   "display_name": "Python 3.8.11 64-bit ('test': conda)",
   "language": "python",
   "name": "python3"
  },
  "language_info": {
   "codemirror_mode": {
    "name": "ipython",
    "version": 3
   },
   "file_extension": ".py",
   "mimetype": "text/x-python",
   "name": "python",
   "nbconvert_exporter": "python",
   "pygments_lexer": "ipython3",
   "version": "3.8.10"
  },
  "orig_nbformat": 4
 },
 "nbformat": 4,
 "nbformat_minor": 2
}

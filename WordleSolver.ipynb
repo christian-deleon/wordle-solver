{
 "cells": [
  {
   "cell_type": "markdown",
   "metadata": {},
   "source": [
    "## First import Pandas to load the data into a dataframe, and the Enum class."
   ]
  },
  {
   "cell_type": "code",
   "execution_count": 12,
   "metadata": {},
   "outputs": [],
   "source": [
    "import pandas as pd\n",
    "\n",
    "from enum import Enum"
   ]
  },
  {
   "cell_type": "markdown",
   "metadata": {},
   "source": [
    "## To help determine if the letter is found in the word of the day.\n",
    "\n",
    "- exactly: the letter is found in the word and in the correct spot.\n",
    "- exist: the letter is in the word but in the wrong spot.\n",
    "- nonexistent: the letter is not found in the word.\n"
   ]
  },
  {
   "cell_type": "code",
   "execution_count": null,
   "metadata": {},
   "outputs": [],
   "source": [
    "class Val(Enum):\n",
    "    exactly = 'exactly'\n",
    "    exist = 'exist'\n",
    "    nonexistent = 'nonexistent'"
   ]
  },
  {
   "cell_type": "markdown",
   "metadata": {},
   "source": [
    "## The function to filter out the words that do not match the pattern of existing letters."
   ]
  },
  {
   "cell_type": "code",
   "execution_count": 13,
   "metadata": {},
   "outputs": [],
   "source": [
    "def filter_words(top_words, guess):\n",
    "    for index, (letter, validation) in enumerate(guess):\n",
    "        if validation == Val.nonexistent:\n",
    "            top_words = top_words[~top_words.isin([letter]).any(axis=1)]\n",
    "        \n",
    "        elif validation == Val.exactly:\n",
    "            top_words = top_words[top_words.iloc[:, index] == letter]\n",
    "\n",
    "        elif validation == Val.exist:\n",
    "            top_words = top_words[(top_words.isin([letter]).any(axis=1)) & (top_words.iloc[:, index] != letter)]\n",
    "\n",
    "    return top_words"
   ]
  },
  {
   "cell_type": "markdown",
   "metadata": {},
   "source": [
    "## Load the words.csv file into a Pandas Dataframe"
   ]
  },
  {
   "cell_type": "code",
   "execution_count": null,
   "metadata": {},
   "outputs": [],
   "source": [
    "words = pd.read_csv(r\"words.csv\", index_col='rank')"
   ]
  },
  {
   "cell_type": "markdown",
   "metadata": {},
   "source": [
    "## Use the three most frequently used letters to suggest a list of words to start the game."
   ]
  },
  {
   "cell_type": "code",
   "execution_count": 14,
   "metadata": {},
   "outputs": [
    {
     "data": {
      "text/html": [
       "<div>\n",
       "<style scoped>\n",
       "    .dataframe tbody tr th:only-of-type {\n",
       "        vertical-align: middle;\n",
       "    }\n",
       "\n",
       "    .dataframe tbody tr th {\n",
       "        vertical-align: top;\n",
       "    }\n",
       "\n",
       "    .dataframe thead th {\n",
       "        text-align: right;\n",
       "    }\n",
       "</style>\n",
       "<table border=\"1\" class=\"dataframe\">\n",
       "  <thead>\n",
       "    <tr style=\"text-align: right;\">\n",
       "      <th></th>\n",
       "      <th>word</th>\n",
       "    </tr>\n",
       "    <tr>\n",
       "      <th>rank</th>\n",
       "      <th></th>\n",
       "    </tr>\n",
       "  </thead>\n",
       "  <tbody>\n",
       "    <tr>\n",
       "      <th>104</th>\n",
       "      <td>media</td>\n",
       "    </tr>\n",
       "    <tr>\n",
       "      <th>191</th>\n",
       "      <td>aired</td>\n",
       "    </tr>\n",
       "    <tr>\n",
       "      <th>327</th>\n",
       "      <td>image</td>\n",
       "    </tr>\n",
       "    <tr>\n",
       "      <th>332</th>\n",
       "      <td>maine</td>\n",
       "    </tr>\n",
       "    <tr>\n",
       "      <th>382</th>\n",
       "      <td>marie</td>\n",
       "    </tr>\n",
       "    <tr>\n",
       "      <th>436</th>\n",
       "      <td>anime</td>\n",
       "    </tr>\n",
       "    <tr>\n",
       "      <th>476</th>\n",
       "      <td>ideas</td>\n",
       "    </tr>\n",
       "    <tr>\n",
       "      <th>500</th>\n",
       "      <td>alice</td>\n",
       "    </tr>\n",
       "    <tr>\n",
       "      <th>534</th>\n",
       "      <td>aires</td>\n",
       "    </tr>\n",
       "    <tr>\n",
       "      <th>599</th>\n",
       "      <td>aimed</td>\n",
       "    </tr>\n",
       "  </tbody>\n",
       "</table>\n",
       "</div>"
      ],
      "text/plain": [
       "       word\n",
       "rank       \n",
       "104   media\n",
       "191   aired\n",
       "327   image\n",
       "332   maine\n",
       "382   marie\n",
       "436   anime\n",
       "476   ideas\n",
       "500   alice\n",
       "534   aires\n",
       "599   aimed"
      ]
     },
     "execution_count": 14,
     "metadata": {},
     "output_type": "execute_result"
    }
   ],
   "source": [
    "starting_words = words.copy()\n",
    "most_frequent_letters = 'aei'\n",
    "\n",
    "for letter in most_frequent_letters:\n",
    "    starting_words = starting_words[starting_words.isin([letter]).any(axis=1)]\n",
    "\n",
    "starting_words[['word']].head(10)"
   ]
  },
  {
   "cell_type": "markdown",
   "metadata": {},
   "source": [
    "## Make a copy of the words Dataframe."
   ]
  },
  {
   "cell_type": "code",
   "execution_count": 15,
   "metadata": {},
   "outputs": [],
   "source": [
    "top_words = words.copy()"
   ]
  },
  {
   "cell_type": "markdown",
   "metadata": {},
   "source": [
    "## Filtering out the top words.\n",
    "\n",
    "1. Replace the \"word\" string variable with the word you entered into the game.\n",
    "2. Using the validation list, set the enum value that corresponds to the index of the letter you entered.\n",
    "3. Run cell\n",
    "4. Pick a word from the list to use for your next guess."
   ]
  },
  {
   "cell_type": "code",
   "execution_count": 18,
   "metadata": {},
   "outputs": [
    {
     "data": {
      "text/html": [
       "<div>\n",
       "<style scoped>\n",
       "    .dataframe tbody tr th:only-of-type {\n",
       "        vertical-align: middle;\n",
       "    }\n",
       "\n",
       "    .dataframe tbody tr th {\n",
       "        vertical-align: top;\n",
       "    }\n",
       "\n",
       "    .dataframe thead th {\n",
       "        text-align: right;\n",
       "    }\n",
       "</style>\n",
       "<table border=\"1\" class=\"dataframe\">\n",
       "  <thead>\n",
       "    <tr style=\"text-align: right;\">\n",
       "      <th></th>\n",
       "      <th>word</th>\n",
       "    </tr>\n",
       "    <tr>\n",
       "      <th>rank</th>\n",
       "      <th></th>\n",
       "    </tr>\n",
       "  </thead>\n",
       "  <tbody>\n",
       "    <tr>\n",
       "      <th>532</th>\n",
       "      <td>moist</td>\n",
       "    </tr>\n",
       "    <tr>\n",
       "      <th>6849</th>\n",
       "      <td>morsi</td>\n",
       "    </tr>\n",
       "    <tr>\n",
       "      <th>28612</th>\n",
       "      <td>msomi</td>\n",
       "    </tr>\n",
       "    <tr>\n",
       "      <th>29361</th>\n",
       "      <td>msiri</td>\n",
       "    </tr>\n",
       "    <tr>\n",
       "      <th>30468</th>\n",
       "      <td>mtosi</td>\n",
       "    </tr>\n",
       "    <tr>\n",
       "      <th>40977</th>\n",
       "      <td>msizi</td>\n",
       "    </tr>\n",
       "    <tr>\n",
       "      <th>41759</th>\n",
       "      <td>motsi</td>\n",
       "    </tr>\n",
       "    <tr>\n",
       "      <th>43401</th>\n",
       "      <td>moisi</td>\n",
       "    </tr>\n",
       "    <tr>\n",
       "      <th>60623</th>\n",
       "      <td>msibi</td>\n",
       "    </tr>\n",
       "    <tr>\n",
       "      <th>65790</th>\n",
       "      <td>mnisi</td>\n",
       "    </tr>\n",
       "    <tr>\n",
       "      <th>66812</th>\n",
       "      <td>moism</td>\n",
       "    </tr>\n",
       "    <tr>\n",
       "      <th>72119</th>\n",
       "      <td>moisy</td>\n",
       "    </tr>\n",
       "    <tr>\n",
       "      <th>76740</th>\n",
       "      <td>mbosi</td>\n",
       "    </tr>\n",
       "    <tr>\n",
       "      <th>81253</th>\n",
       "      <td>mnist</td>\n",
       "    </tr>\n",
       "    <tr>\n",
       "      <th>99842</th>\n",
       "      <td>msisi</td>\n",
       "    </tr>\n",
       "    <tr>\n",
       "      <th>100830</th>\n",
       "      <td>mpisi</td>\n",
       "    </tr>\n",
       "    <tr>\n",
       "      <th>102436</th>\n",
       "      <td>moosi</td>\n",
       "    </tr>\n",
       "    <tr>\n",
       "      <th>109485</th>\n",
       "      <td>moksi</td>\n",
       "    </tr>\n",
       "    <tr>\n",
       "      <th>110004</th>\n",
       "      <td>mfisd</td>\n",
       "    </tr>\n",
       "    <tr>\n",
       "      <th>111033</th>\n",
       "      <td>msidi</td>\n",
       "    </tr>\n",
       "    <tr>\n",
       "      <th>131146</th>\n",
       "      <td>monsi</td>\n",
       "    </tr>\n",
       "    <tr>\n",
       "      <th>133845</th>\n",
       "      <td>mfish</td>\n",
       "    </tr>\n",
       "    <tr>\n",
       "      <th>138937</th>\n",
       "      <td>mdist</td>\n",
       "    </tr>\n",
       "    <tr>\n",
       "      <th>140908</th>\n",
       "      <td>msiti</td>\n",
       "    </tr>\n",
       "    <tr>\n",
       "      <th>144596</th>\n",
       "      <td>msoki</td>\n",
       "    </tr>\n",
       "    <tr>\n",
       "      <th>152330</th>\n",
       "      <td>mjosi</td>\n",
       "    </tr>\n",
       "  </tbody>\n",
       "</table>\n",
       "</div>"
      ],
      "text/plain": [
       "         word\n",
       "rank         \n",
       "532     moist\n",
       "6849    morsi\n",
       "28612   msomi\n",
       "29361   msiri\n",
       "30468   mtosi\n",
       "40977   msizi\n",
       "41759   motsi\n",
       "43401   moisi\n",
       "60623   msibi\n",
       "65790   mnisi\n",
       "66812   moism\n",
       "72119   moisy\n",
       "76740   mbosi\n",
       "81253   mnist\n",
       "99842   msisi\n",
       "100830  mpisi\n",
       "102436  moosi\n",
       "109485  moksi\n",
       "110004  mfisd\n",
       "111033  msidi\n",
       "131146  monsi\n",
       "133845  mfish\n",
       "138937  mdist\n",
       "140908  msiti\n",
       "144596  msoki\n",
       "152330  mjosi"
      ]
     },
     "execution_count": 18,
     "metadata": {},
     "output_type": "execute_result"
    }
   ],
   "source": [
    "word = 'media'\n",
    "validations = [Val.exactly, Val.exist, Val.nonexistent, Val.nonexistent, Val.exist]\n",
    "\n",
    "guess = list(zip(word.lower(), validations))\n",
    "top_words = filter_words(top_words, guess)\n",
    "top_words[['word']]"
   ]
  },
  {
   "cell_type": "code",
   "execution_count": null,
   "metadata": {},
   "outputs": [],
   "source": []
  }
 ],
 "metadata": {
  "interpreter": {
   "hash": "1e73ccfecc1f266268780d416494ada0957b888b43e21118f66e4ee9a294b8cb"
  },
  "kernelspec": {
   "display_name": "Python 3.8.11 64-bit ('test': conda)",
   "language": "python",
   "name": "python3"
  },
  "language_info": {
   "codemirror_mode": {
    "name": "ipython",
    "version": 3
   },
   "file_extension": ".py",
   "mimetype": "text/x-python",
   "name": "python",
   "nbconvert_exporter": "python",
   "pygments_lexer": "ipython3",
   "version": "3.8.10"
  },
  "orig_nbformat": 4
 },
 "nbformat": 4,
 "nbformat_minor": 2
}
